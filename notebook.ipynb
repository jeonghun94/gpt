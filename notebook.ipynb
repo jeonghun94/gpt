{
 "cells": [
  {
   "cell_type": "code",
   "execution_count": 5,
   "metadata": {},
   "outputs": [
    {
     "data": {
      "text/plain": [
       "\"The poem about Python as a programming language conveys themes of simplicity, clarity, and efficiency. The choice of Python as the subject of the poem suggests a focus on the elegance and straightforwardness of the language. The poet likely appreciates Python for its clean syntax and ease of use, as well as its ability to express complex ideas in a concise manner.\\n\\nThe emotions conveyed in the poem are likely ones of admiration and respect for Python as a tool for creativity and problem-solving. The poet may feel a sense of joy and satisfaction in using Python to bring their ideas to life, and appreciate the way the language allows them to express themselves in a clear and efficient manner.\\n\\nOverall, the poem about Python as a programming language celebrates the beauty of simplicity and the power of clear communication, reflecting the poet's appreciation for a language that enables them to create and innovate with ease.\""
      ]
     },
     "execution_count": 5,
     "metadata": {},
     "output_type": "execute_result"
    }
   ],
   "source": [
    "from langchain.chat_models import ChatOpenAI\n",
    "from langchain.prompts import ChatPromptTemplate\n",
    "from langchain.schema import BaseOutputParser\n",
    "\n",
    "chat = ChatOpenAI(model=\"gpt-3.5-turbo\", temperature=0.5)\n",
    "\n",
    "poem_template = ChatPromptTemplate.from_messages([\n",
    "    (\"system\", \"You are a poet who specializes in writing poems about programming languages. Write a poem that captures the essence and beauty of the language.\"),\n",
    "    (\"human\", \"Write a poem about {language_name}.\")\n",
    "])\n",
    "\n",
    "explanation_template = ChatPromptTemplate.from_messages([\n",
    "    (\"system\", \"You are a literary critic specializing in the analysis of poetry. Explain the themes and emotions conveyed in the following poem about a programming language.\"),\n",
    "    (\"human\", \"{poem}\")\n",
    "])\n",
    "\n",
    "class TextOutputParser(BaseOutputParser):\n",
    "    def parse(self, text):\n",
    "        return text.strip()\n",
    "\n",
    "poem_chain = poem_template | chat | TextOutputParser()\n",
    "explanation_chain = explanation_template | chat | TextOutputParser()\n",
    "\n",
    "final_chain = poem_chain | explanation_chain\n",
    "poem_chain.invoke({\"language_name\": \"Python\"})\n",
    "explanation_chain.invoke({\"poem\": \"Python is a programming language that is known for its simplicity and readability.\"})\n",
    "\n"
   ]
  }
 ],
 "metadata": {
  "kernelspec": {
   "display_name": "env",
   "language": "python",
   "name": "python3"
  },
  "language_info": {
   "codemirror_mode": {
    "name": "ipython",
    "version": 3
   },
   "file_extension": ".py",
   "mimetype": "text/x-python",
   "name": "python",
   "nbconvert_exporter": "python",
   "pygments_lexer": "ipython3",
   "version": "3.11.1"
  }
 },
 "nbformat": 4,
 "nbformat_minor": 2
}

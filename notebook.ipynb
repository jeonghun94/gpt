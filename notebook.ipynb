{
 "cells": [
  {
   "cell_type": "code",
   "execution_count": 9,
   "metadata": {},
   "outputs": [
    {
     "name": "stdout",
     "output_type": "stream",
     "text": [
      "\"Argylle\" is an upcoming spy thriller film directed by Matthew Vaughn. The film stars Henry Cavill, Sam Rockwell, Bryce Dallas Howard, and Dua Lipa. It is based on the upcoming novel of the same name by Ellie Conway."
     ]
    },
    {
     "data": {
      "text/plain": [
       "AIMessageChunk(content='\"Argylle\" is an upcoming spy thriller film directed by Matthew Vaughn. The film stars Henry Cavill, Sam Rockwell, Bryce Dallas Howard, and Dua Lipa. It is based on the upcoming novel of the same name by Ellie Conway.')"
      ]
     },
     "execution_count": 9,
     "metadata": {},
     "output_type": "execute_result"
    }
   ],
   "source": [
    "\n",
    "from langchain.prompts.few_shot import FewShotChatMessagePromptTemplate\n",
    "from langchain.callbacks import StreamingStdOutCallbackHandler\n",
    "from langchain.prompts import ChatPromptTemplate\n",
    "from langchain.chat_models import ChatOpenAI\n",
    "\n",
    "chat = ChatOpenAI(\n",
    "    temperature=0.1,\n",
    "    streaming=True,\n",
    "    callbacks=[\n",
    "        StreamingStdOutCallbackHandler()]\n",
    ")\n",
    "\n",
    "examples = [\n",
    "    {\n",
    "        \"movie\": \"IronMan\",\n",
    "        \"answer\": \"\"\"\n",
    "        Let me introuce you about IronMan:\n",
    "        Director: John Favreau\n",
    "        Main Cast: Robert Downey Jr., Gwyneth Paltrow, Jeff Bridges\n",
    "        Budget: $140 million\n",
    "        Box Office: $585.2 million\n",
    "        Genres: Action, Adventure, Sci-Fi\n",
    "        Brief Synopsis: The film follows Tony Stark, a billionaire industrialist and genius inventor, who is kidnapped \n",
    "        \"\"\",\n",
    "    },\n",
    "    {\n",
    "        \"movie\": \"Avengers\",\n",
    "        \"answer\": \"\"\"\n",
    "        Let me introuce you about Avengers:\n",
    "        Director: Joss Whedon\n",
    "        Main Cast: Robert Downey Jr., Chris Evans, Scarlett Johansson\n",
    "        Budget: $220 million\n",
    "        Box Office: $1.519 billion\n",
    "        Genres: Action, Adventure, Sci-Fi\n",
    "        Brief Synopsis: The film follows Nick Fury, director of the peacekeeping organization S.H.I.E.L.D., who recruits Iron\n",
    "        \"\"\",\n",
    "    }\n",
    "]\n",
    "\n",
    "example_prompt = ChatPromptTemplate.from_messages(\n",
    "    [\n",
    "        (\"human\", \"What do you know about {movie}?\"),\n",
    "        (\"ai\", \"{answer}\")\n",
    "    ]\n",
    ")\n",
    "\n",
    "example_prompt = FewShotChatMessagePromptTemplate(\n",
    "    example_prompt=example_prompt,\n",
    "    examples=examples,\n",
    ")\n",
    "\n",
    "final_prompt = ChatPromptTemplate.from_messages(\n",
    "    [\n",
    "        (\"system\", \"You are a movie expert, you give short answers.\"),\n",
    "        example_prompt,\n",
    "        (\"human\", \"What do you know about {movie}?\"),\n",
    "    ]\n",
    ")\n",
    "\n",
    "chain = final_prompt | chat\n",
    "\n",
    "chain.invoke({\"movie\": \"Argylle\"})"
   ]
  },
  {
   "cell_type": "code",
   "execution_count": null,
   "metadata": {},
   "outputs": [],
   "source": []
  }
 ],
 "metadata": {
  "kernelspec": {
   "display_name": "env",
   "language": "python",
   "name": "python3"
  },
  "language_info": {
   "codemirror_mode": {
    "name": "ipython",
    "version": 3
   },
   "file_extension": ".py",
   "mimetype": "text/x-python",
   "name": "python",
   "nbconvert_exporter": "python",
   "pygments_lexer": "ipython3",
   "version": "3.11.1"
  }
 },
 "nbformat": 4,
 "nbformat_minor": 2
}

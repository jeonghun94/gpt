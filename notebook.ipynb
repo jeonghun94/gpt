{
 "cells": [
  {
   "cell_type": "code",
   "execution_count": 21,
   "metadata": {},
   "outputs": [
    {
     "name": "stdout",
     "output_type": "stream",
     "text": [
      "content='토니 스타크의 명대사들은 다음과 같습니다:\\n1. \"세상을 바꾸려면 자신부터 바꿔야 해.\" - 아이언맨\\n2. \"나는 그냥 나 자신이 되는 걸 선택했어.\" - 아이언맨 시리즈'\n"
     ]
    }
   ],
   "source": [
    "from dotenv import load_dotenv\n",
    "from langchain.chat_models import ChatOpenAI\n",
    "from langchain.document_loaders import UnstructuredFileLoader\n",
    "from langchain.text_splitter import RecursiveCharacterTextSplitter\n",
    "from langchain.embeddings import OpenAIEmbeddings, CacheBackedEmbeddings\n",
    "from langchain.vectorstores import FAISS\n",
    "from langchain.storage import LocalFileStore\n",
    "from langchain.prompts import ChatPromptTemplate, MessagesPlaceholder\n",
    "from langchain.memory import ConversationBufferMemory\n",
    "from langchain.schema.runnable import RunnablePassthrough\n",
    "\n",
    "NLTK_MODEL = 'punkt'\n",
    "FILES_PATH = \"./files/marvels.txt\"\n",
    "CACHE_DIR_PATH = \"./.cache/\"\n",
    "\n",
    "load_dotenv()\n",
    "\n",
    "llm = ChatOpenAI(temperature=0.1)\n",
    "\n",
    "memory = ConversationBufferMemory(llm=llm, max_token_limit=120, return_messages=True)\n",
    "\n",
    "loader = UnstructuredFileLoader(FILES_PATH)\n",
    "splitter = RecursiveCharacterTextSplitter.from_tiktoken_encoder(separators=\"\\n\", chunk_size=500, chunk_overlap=100)\n",
    "docs = loader.load_and_split(text_splitter=splitter)\n",
    "\n",
    "embeddings = OpenAIEmbeddings()\n",
    "cache_dir = LocalFileStore(CACHE_DIR_PATH)\n",
    "cached_embeddings = CacheBackedEmbeddings.from_bytes_store(embeddings, cache_dir)\n",
    "vectorstore = FAISS.from_documents(docs, cached_embeddings)\n",
    "\n",
    "retriever = vectorstore.as_retriever()\n",
    "\n",
    "prompt = ChatPromptTemplate.from_messages([\n",
    "    (\"system\", \"When you ask questions, my responses will be based solely on the information provided below. If I don't know the answer, I'll simply say I don't know. I won't make up answers based on speculation:\\n\\n{context}\"),\n",
    "    MessagesPlaceholder(variable_name=\"history\"),\n",
    "    (\"human\", \"{question}\")\n",
    "])\n",
    "\n",
    "def load_memory(_):\n",
    "    return memory.load_memory_variables({})[\"history\"]\n",
    "\n",
    "chain = ({\n",
    "    \"context\": retriever,\n",
    "    \"question\": RunnablePassthrough(),\n",
    "    \"history\": load_memory\n",
    "} | prompt | llm)\n",
    "\n",
    "def invoke_chain(question):\n",
    "    try:\n",
    "        results = chain.invoke(question)\n",
    "        memory.save_context({\"input\": question}, {\"output\": results.content})\n",
    "        print(results)\n",
    "    except Exception as e:\n",
    "        print(f\"An error occurred: {e}\")\n",
    "\n",
    "invoke_chain(\"토니 스타크의 명대사들이 뭐지?\")\n"
   ]
  },
  {
   "cell_type": "code",
   "execution_count": 22,
   "metadata": {},
   "outputs": [
    {
     "name": "stdout",
     "output_type": "stream",
     "text": [
      "content='토르의 명대사들은 다음과 같습니다:\\n1. \"우리가 얼마나 강한지 보여주는 것은 우리가 겪는 시련이 아니라, 그것을 어떻게 극복하느냐에 달려있다.\" - 토르 시리즈\\n2. \"진정한 리더는 권력을 찾지 않지만, 그것이 필요할 때 준비되어 있어야 한다.\" - 토르: 라그나로크'\n"
     ]
    }
   ],
   "source": [
    "invoke_chain(\"토르는?\")"
   ]
  },
  {
   "cell_type": "code",
   "execution_count": 23,
   "metadata": {},
   "outputs": [
    {
     "name": "stdout",
     "output_type": "stream",
     "text": [
      "content='토르의 무기는 미울니르(Mjolnir)입니다.'\n"
     ]
    }
   ],
   "source": [
    "invoke_chain(\"토르의 무기는 뭐지?\")"
   ]
  }
 ],
 "metadata": {
  "kernelspec": {
   "display_name": "env",
   "language": "python",
   "name": "python3"
  },
  "language_info": {
   "codemirror_mode": {
    "name": "ipython",
    "version": 3
   },
   "file_extension": ".py",
   "mimetype": "text/x-python",
   "name": "python",
   "nbconvert_exporter": "python",
   "pygments_lexer": "ipython3",
   "version": "3.11.1"
  }
 },
 "nbformat": 4,
 "nbformat_minor": 2
}
